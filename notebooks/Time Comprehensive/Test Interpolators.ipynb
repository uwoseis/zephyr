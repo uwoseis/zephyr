{
 "cells": [
  {
   "cell_type": "markdown",
   "metadata": {},
   "source": [
    "# Test Interpolators\n",
    "Brendan Smithyman | March, 2016"
   ]
  },
  {
   "cell_type": "code",
   "execution_count": 1,
   "metadata": {
    "collapsed": true
   },
   "outputs": [],
   "source": [
    "import sys\n",
    "import warnings\n",
    "sys.path.append('../..')"
   ]
  },
  {
   "cell_type": "code",
   "execution_count": 2,
   "metadata": {
    "collapsed": true
   },
   "outputs": [],
   "source": [
    "from zephyr.backend import SplineGridInterpolator\n",
    "from zephyr.middleware import FullwvDatastore"
   ]
  },
  {
   "cell_type": "markdown",
   "metadata": {},
   "source": [
    "## Setup\n",
    "\n",
    "Read a configuration from `xhlayr.ini` and `xhlayr.vp`, and set up a scale factor of 1.5; i.e., $sdx = 1.5\\times dx$."
   ]
  },
  {
   "cell_type": "code",
   "execution_count": 3,
   "metadata": {
    "collapsed": true
   },
   "outputs": [],
   "source": [
    "fds = FullwvDatastore('xhlayr')\n",
    "systemConfig = fds.systemConfig\n",
    "scu = {\n",
    "    'scale': 1.5,\n",
    "}\n",
    "systemConfig.update(scu)"
   ]
  },
  {
   "cell_type": "markdown",
   "metadata": {},
   "source": [
    "Create a `SplineGridInterpolator`, which behaves like an $8911\\times 20000$ matrix."
   ]
  },
  {
   "cell_type": "code",
   "execution_count": 4,
   "metadata": {
    "collapsed": false
   },
   "outputs": [
    {
     "name": "stdout",
     "output_type": "stream",
     "text": [
      "(8911.0, 20000)\n"
     ]
    }
   ],
   "source": [
    "sgi = SplineGridInterpolator(systemConfig)\n",
    "print(sgi.shape)"
   ]
  },
  {
   "cell_type": "markdown",
   "metadata": {},
   "source": [
    "Get the velocity `c` from the `systemConfig`, downsample it to create `cn`, and then apply the transpose of the operation to get `cr`."
   ]
  },
  {
   "cell_type": "code",
   "execution_count": 5,
   "metadata": {
    "collapsed": false
   },
   "outputs": [],
   "source": [
    "with warnings.catch_warnings():\n",
    "    warnings.simplefilter('ignore')\n",
    "    \n",
    "    c = systemConfig['c']\n",
    "    cn = (sgi * c).reshape((sgi.snz, sgi.snx))\n",
    "    cr = (sgi.T * cn).reshape((sgi.nz, sgi.nx))"
   ]
  },
  {
   "cell_type": "markdown",
   "metadata": {},
   "source": [
    "## Results"
   ]
  },
  {
   "cell_type": "code",
   "execution_count": 6,
   "metadata": {
    "collapsed": false
   },
   "outputs": [
    {
     "name": "stdout",
     "output_type": "stream",
     "text": [
      "Populating the interactive namespace from numpy and matplotlib\n"
     ]
    }
   ],
   "source": [
    "%pylab inline"
   ]
  },
  {
   "cell_type": "code",
   "execution_count": 7,
   "metadata": {
    "collapsed": false
   },
   "outputs": [
    {
     "name": "stderr",
     "output_type": "stream",
     "text": [
      "/Users/brendan/anaconda/lib/python2.7/site-packages/matplotlib/collections.py:590: FutureWarning: elementwise comparison failed; returning scalar instead, but in the future will perform elementwise comparison\n",
      "  if self._edgecolors == str('face'):\n"
     ]
    },
    {
     "data": {
      "image/png": "[encoded data removed]",
      "text/plain": [
       "<matplotlib.figure.Figure at 0x1094d8490>"
      ]
     },
     "metadata": {},
     "output_type": "display_data"
    }
   ],
   "source": [
    "with warnings.catch_warnings():\n",
    "    warnings.simplefilter('ignore')\n",
    "    \n",
    "\n",
    "    plotOpts = {\n",
    "        'vmin': c.min(),\n",
    "        'vmax': c.max(),\n",
    "    }\n",
    "\n",
    "    subplot(1,3,1)\n",
    "    imshow(c, **plotOpts)\n",
    "    colorbar(shrink=0.5)\n",
    "    title('Original')\n",
    "\n",
    "    subplot(1,3,2)\n",
    "    imshow(cn, **plotOpts)\n",
    "    colorbar(shrink=0.5)\n",
    "    title('Rescaled')\n",
    "\n",
    "    subplot(1,3,3)\n",
    "    imshow(cr, **plotOpts)\n",
    "    colorbar(shrink=0.5)\n",
    "    title('After adjoint')\n",
    "\n",
    "    tight_layout()"
   ]
  },
  {
   "cell_type": "code",
   "execution_count": 8,
   "metadata": {
    "collapsed": false
   },
   "outputs": [
    {
     "data": {
      "text/plain": [
       "<matplotlib.text.Text at 0x10a974950>"
      ]
     },
     "execution_count": 8,
     "metadata": {},
     "output_type": "execute_result"
    },
    {
     "data": {
      "image/png": "[encoded data removed]",
      "text/plain": [
       "<matplotlib.figure.Figure at 0x1094d1250>"
      ]
     },
     "metadata": {},
     "output_type": "display_data"
    }
   ],
   "source": [
    "nLoops = 100\n",
    "\n",
    "ca = c\n",
    "sgiT = sgi.T\n",
    "for i in xrange(nLoops):\n",
    "    cb = sgi*ca\n",
    "    ca = sgiT*cb\n",
    "ca.shape = (sgi.nz,sgi.nx)\n",
    "\n",
    "plotOpts = {\n",
    "    'vmin': c.min(),\n",
    "    'vmax': c.max(),\n",
    "}\n",
    "\n",
    "subplot(1,2,1)\n",
    "imshow(c, **plotOpts)\n",
    "colorbar(shrink=0.5)\n",
    "title('Original')\n",
    "\n",
    "subplot(1,2,2)\n",
    "imshow(ca, **plotOpts)\n",
    "colorbar(shrink=0.5)\n",
    "title('After %d loops'%nLoops)"
   ]
  },
  {
   "cell_type": "code",
   "execution_count": null,
   "metadata": {
    "collapsed": true
   },
   "outputs": [],
   "source": []
  }
 ],
 "metadata": {
  "kernelspec": {
   "display_name": "Python 2",
   "language": "python",
   "name": "python2"
  },
  "language_info": {
   "codemirror_mode": {
    "name": "ipython",
    "version": 2
   },
   "file_extension": ".py",
   "mimetype": "text/x-python",
   "name": "python",
   "nbconvert_exporter": "python",
   "pygments_lexer": "ipython2",
   "version": "2.7.11"
  }
 },
 "nbformat": 4,
 "nbformat_minor": 0
}
