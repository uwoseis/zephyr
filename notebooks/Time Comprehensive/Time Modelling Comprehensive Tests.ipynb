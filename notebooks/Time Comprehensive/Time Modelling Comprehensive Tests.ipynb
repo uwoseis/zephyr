{
 "cells": [
  {
   "cell_type": "markdown",
   "metadata": {},
   "source": [
    "# Time Modelling Tests\n",
    "\n",
    "Brendan Smithyman | February, 2016\n",
    "\n",
    "Test for solvers, plotting wavefields and outputting to `.utout`."
   ]
  },
  {
   "cell_type": "code",
   "execution_count": 2,
   "metadata": {
    "collapsed": false
   },
   "outputs": [],
   "source": [
    "import os\n",
    "import sys\n",
    "\n",
    "sys.path.append('../../')\n",
    "sys.path.append('/usr/local/bin')\n",
    "\n",
    "import numpy as np\n",
    "from pygeo.segyread import SEGYFile\n",
    "from pygeo.fullpy import readini\n",
    "# from pymatsolver import MumpsSolver\n",
    "from zephyr.backend import MiniZephyrHD, EurusHD, SparseKaiserSource\n",
    "from zephyr.middleware import Helm2DViscoProblem, Helm2DSurvey, FullwvDatastore\n",
    "from zephyr.middleware import dftreal, idftreal, dwavelet, TimeMachine"
   ]
  },
  {
   "cell_type": "code",
   "execution_count": 3,
   "metadata": {
    "collapsed": false
   },
   "outputs": [],
   "source": [
    "fds = FullwvDatastore('xhlayr')\n",
    "systemConfig = fds.systemConfig\n",
    "\n",
    "systemConfig.update({\n",
    "    'Disc':     MiniZephyrHD,\n",
    "#     'Solver':   MumpsSolver,\n",
    "})\n",
    "\n",
    "TM = TimeMachine(systemConfig)\n",
    "STF = TM.fSource(TM.keuper())\n",
    "systemConfig['sterms'] = STF.ravel()\n",
    "\n",
    "problem = Helm2DViscoProblem(systemConfig)\n",
    "survey  = Helm2DSurvey(systemConfig)\n",
    "problem.pair(survey)"
   ]
  },
  {
   "cell_type": "code",
   "execution_count": null,
   "metadata": {
    "collapsed": false
   },
   "outputs": [
    {
     "name": "stdout",
     "output_type": "stream",
     "text": [
      "System Wrapper:\t<class 'zephyr.backend.distributors.ViscoMultiFreq'>\n",
      "Discretization:\t<class 'zephyr.backend.minizephyr.MiniZephyrHD'>\n",
      "RHS Generator: \t<class 'zephyr.backend.source.SparseKaiserSource'>\n"
     ]
    }
   ],
   "source": [
    "print('System Wrapper:\\t%s'%problem.SystemWrapper)\n",
    "print('Discretization:\\t%s'%problem.system.Disc)\n",
    "print('RHS Generator: \\t%s'%survey.rhsGenerator.__class__)"
   ]
  },
  {
   "cell_type": "code",
   "execution_count": null,
   "metadata": {
    "collapsed": false
   },
   "outputs": [],
   "source": [
    "uF = problem.fields()[:]['u']"
   ]
  },
  {
   "cell_type": "code",
   "execution_count": null,
   "metadata": {
    "collapsed": false
   },
   "outputs": [],
   "source": [
    "uFs = uF[:,0,:]\n",
    "res = TM.idft(uFs)"
   ]
  },
  {
   "cell_type": "code",
   "execution_count": null,
   "metadata": {
    "collapsed": false
   },
   "outputs": [],
   "source": [
    "%pylab inline\n",
    "imshow(res[:,20].reshape((200,100)), cmap=cm.bwr)"
   ]
  },
  {
   "cell_type": "code",
   "execution_count": null,
   "metadata": {
    "collapsed": false
   },
   "outputs": [],
   "source": [
    "%%time\n",
    "\n",
    "print('Running %(nfreq)d frequencies and %(nsrc)s sources'%{'nfreq': survey.nfreq, 'nsrc': survey.nsrc})\n",
    "\n",
    "dPred = survey.dpred().reshape((survey.nrec, survey.nsrc, survey.nfreq))"
   ]
  },
  {
   "cell_type": "code",
   "execution_count": null,
   "metadata": {
    "collapsed": false
   },
   "outputs": [],
   "source": [
    "fds.utoutWrite(dPred)"
   ]
  },
  {
   "cell_type": "code",
   "execution_count": null,
   "metadata": {
    "collapsed": true
   },
   "outputs": [],
   "source": []
  }
 ],
 "metadata": {
  "kernelspec": {
   "display_name": "Python 2",
   "language": "python",
   "name": "python2"
  },
  "language_info": {
   "codemirror_mode": {
    "name": "ipython",
    "version": 2
   },
   "file_extension": ".py",
   "mimetype": "text/x-python",
   "name": "python",
   "nbconvert_exporter": "python",
   "pygments_lexer": "ipython2",
   "version": "2.7.11"
  }
 },
 "nbformat": 4,
 "nbformat_minor": 0
}
