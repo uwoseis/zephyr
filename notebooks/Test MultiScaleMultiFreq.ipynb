{
 "cells": [
  {
   "cell_type": "code",
   "execution_count": 1,
   "metadata": {
    "collapsed": false
   },
   "outputs": [],
   "source": [
    "import numpy as np\n",
    "from zephyr.backend import MultiFreq, MultiScaleMultiFreq, MiniZephyr, MiniZephyr25D, KaiserSource"
   ]
  },
  {
   "cell_type": "code",
   "execution_count": 2,
   "metadata": {
    "collapsed": false
   },
   "outputs": [],
   "source": [
    "systemConfig = {\n",
    "    'dx':       1.,                     # m\n",
    "    'dz':       1.,                     # m\n",
    "    'c':        2500.,                  # m/s\n",
    "    'rho':      1.,                     # kg/m^3\n",
    "    'nx':       100,                    # count\n",
    "    'nz':       200,                    # count\n",
    "    'freqs':    np.arange(50, 450, 50), # Hz\n",
    "    \n",
    "    # 2D Problem\n",
    "    'Disc':     MiniZephyr,             # discretization\n",
    "    'parallel': True,\n",
    "    'targetGPW':7,\n",
    "    \n",
    "#     # 2.5D Problem\n",
    "#     'disc':     MiniZephyr25D,          # discretization\n",
    "#     'parallel': False,\n",
    "#     'nky':      80,\n",
    "}"
   ]
  },
  {
   "cell_type": "code",
   "execution_count": 3,
   "metadata": {
    "collapsed": false
   },
   "outputs": [
    {
     "name": "stdout",
     "output_type": "stream",
     "text": [
      "7.14285714286\n",
      "(200, 100)\n",
      "(392.0, 20000)\n",
      "3.57142857143\n",
      "(200, 100)\n",
      "(1568.0, 20000)\n",
      "2.38095238095\n",
      "(200, 100)\n",
      "(3528.0, 20000)\n",
      "1.78571428571\n",
      "(200, 100)\n",
      "(6272.0, 20000)\n",
      "1.42857142857\n",
      "(200, 100)\n",
      "(9800.0, 20000)\n",
      "1.19047619048\n",
      "(200, 100)\n",
      "(14112.0, 20000)\n",
      "1.02040816327\n",
      "(200, 100)\n",
      "(19208.0, 20000)\n",
      "0.892857142857\n",
      "(200, 100)\n",
      "(20000.0, 20000)\n"
     ]
    },
    {
     "name": "stderr",
     "output_type": "stream",
     "text": [
      "/Users/brendan/anaconda/lib/python2.7/site-packages/scipy/interpolate/fitpack2.py:1158: ComplexWarning: Casting complex values to real discards the imaginary part\n",
      "  ye, kx, ky, s)\n"
     ]
    },
    {
     "data": {
      "text/plain": [
       "[<zephyr.backend.minizephyr.MiniZephyr at 0x108339d50>,\n",
       " <zephyr.backend.minizephyr.MiniZephyr at 0x10812ced0>,\n",
       " <zephyr.backend.minizephyr.MiniZephyr at 0x108339d90>,\n",
       " <zephyr.backend.minizephyr.MiniZephyr at 0x108339dd0>,\n",
       " <zephyr.backend.minizephyr.MiniZephyr at 0x108339e10>,\n",
       " <zephyr.backend.minizephyr.MiniZephyr at 0x108339e50>,\n",
       " <zephyr.backend.minizephyr.MiniZephyr at 0x108339e90>,\n",
       " <zephyr.backend.minizephyr.MiniZephyr at 0x108339ed0>]"
      ]
     },
     "execution_count": 3,
     "metadata": {},
     "output_type": "execute_result"
    }
   ],
   "source": [
    "mf = MultiScaleMultiFreq(systemConfig)\n",
    "mf.subProblems"
   ]
  },
  {
   "cell_type": "code",
   "execution_count": 4,
   "metadata": {
    "collapsed": true
   },
   "outputs": [],
   "source": [
    "sks = KaiserSource(systemConfig)"
   ]
  },
  {
   "cell_type": "code",
   "execution_count": 8,
   "metadata": {
    "collapsed": false
   },
   "outputs": [],
   "source": [
    "q = sks(np.array([[25, 25]]))"
   ]
  },
  {
   "cell_type": "code",
   "execution_count": 9,
   "metadata": {
    "collapsed": false
   },
   "outputs": [
    {
     "data": {
      "text/plain": [
       "array([[ 0.+0.j],\n",
       "       [ 0.+0.j],\n",
       "       [ 0.+0.j],\n",
       "       ..., \n",
       "       [ 0.+0.j],\n",
       "       [ 0.+0.j],\n",
       "       [ 0.+0.j]])"
      ]
     },
     "execution_count": 9,
     "metadata": {},
     "output_type": "execute_result"
    }
   ],
   "source": [
    "q"
   ]
  },
  {
   "cell_type": "code",
   "execution_count": 10,
   "metadata": {
    "collapsed": false
   },
   "outputs": [
    {
     "name": "stdout",
     "output_type": "stream",
     "text": [
      "CPU times: user 1e+03 ns, sys: 1e+03 ns, total: 2 µs\n",
      "Wall time: 5.01 µs\n",
      "(20000, 1)\n",
      "(392.0, 20000)\n",
      "(20000, 1)\n",
      "(1568.0, 20000)\n",
      "(20000, 1)\n",
      "(3528.0, 20000)\n",
      "(20000, 1)\n",
      "(6272.0, 20000)\n",
      "(20000, 1)\n",
      "(9800.0, 20000)\n",
      "(20000, 1)\n",
      "(14112.0, 20000)\n",
      "(20000, 1)\n",
      "(19208.0, 20000)\n",
      "(20000, 1)\n",
      "(20000.0, 20000)\n"
     ]
    },
    {
     "ename": "ValueError",
     "evalue": "total size of new array must be unchanged",
     "output_type": "error",
     "traceback": [
      "\u001b[0;31m---------------------------------------------------------------------------\u001b[0m",
      "\u001b[0;31mValueError\u001b[0m                                Traceback (most recent call last)",
      "\u001b[0;32m<ipython-input-10-cb528680aefd>\u001b[0m in \u001b[0;36m<module>\u001b[0;34m()\u001b[0m\n\u001b[1;32m      1\u001b[0m \u001b[0mget_ipython\u001b[0m\u001b[0;34m(\u001b[0m\u001b[0;34m)\u001b[0m\u001b[0;34m.\u001b[0m\u001b[0mmagic\u001b[0m\u001b[0;34m(\u001b[0m\u001b[0;34mu'time'\u001b[0m\u001b[0;34m)\u001b[0m\u001b[0;34m\u001b[0m\u001b[0m\n\u001b[0;32m----> 2\u001b[0;31m \u001b[0mus\u001b[0m \u001b[0;34m=\u001b[0m \u001b[0;34m[\u001b[0m\u001b[0mu\u001b[0m \u001b[0;32mfor\u001b[0m \u001b[0mu\u001b[0m \u001b[0;32min\u001b[0m \u001b[0mmf\u001b[0m\u001b[0;34m*\u001b[0m\u001b[0mq\u001b[0m\u001b[0;34m]\u001b[0m\u001b[0;34m\u001b[0m\u001b[0m\n\u001b[0m",
      "\u001b[0;32m/Users/brendan/Projects/zephyr/zephyr/backend/distributors.pyc\u001b[0m in \u001b[0;36m<genexpr>\u001b[0;34m((i, p))\u001b[0m\n\u001b[1;32m    143\u001b[0m                 \u001b[0mplist\u001b[0m\u001b[0;34m.\u001b[0m\u001b[0mappend\u001b[0m\u001b[0;34m(\u001b[0m\u001b[0mp\u001b[0m\u001b[0;34m)\u001b[0m\u001b[0;34m\u001b[0m\u001b[0m\n\u001b[1;32m    144\u001b[0m \u001b[0;34m\u001b[0m\u001b[0m\n\u001b[0;32m--> 145\u001b[0;31m             \u001b[0mu\u001b[0m \u001b[0;34m=\u001b[0m \u001b[0;34m(\u001b[0m\u001b[0mself\u001b[0m\u001b[0;34m.\u001b[0m\u001b[0mscaleTerm\u001b[0m\u001b[0;34m*\u001b[0m\u001b[0mself\u001b[0m\u001b[0;34m.\u001b[0m\u001b[0mpostCall\u001b[0m\u001b[0;34m(\u001b[0m\u001b[0mi\u001b[0m\u001b[0;34m,\u001b[0m \u001b[0mp\u001b[0m\u001b[0;34m.\u001b[0m\u001b[0mget\u001b[0m\u001b[0;34m(\u001b[0m\u001b[0mPARTASK_TIMEOUT\u001b[0m\u001b[0;34m)\u001b[0m\u001b[0;34m)\u001b[0m \u001b[0;32mfor\u001b[0m \u001b[0mi\u001b[0m\u001b[0;34m,\u001b[0m \u001b[0mp\u001b[0m \u001b[0;32min\u001b[0m \u001b[0menumerate\u001b[0m\u001b[0;34m(\u001b[0m\u001b[0mplist\u001b[0m\u001b[0;34m)\u001b[0m\u001b[0;34m)\u001b[0m\u001b[0;34m\u001b[0m\u001b[0m\n\u001b[0m\u001b[1;32m    146\u001b[0m \u001b[0;34m\u001b[0m\u001b[0m\n\u001b[1;32m    147\u001b[0m         \u001b[0;32melse\u001b[0m\u001b[0;34m:\u001b[0m\u001b[0;34m\u001b[0m\u001b[0m\n",
      "\u001b[0;32m/Users/brendan/anaconda/lib/python2.7/multiprocessing/pool.pyc\u001b[0m in \u001b[0;36mget\u001b[0;34m(self, timeout)\u001b[0m\n\u001b[1;32m    565\u001b[0m             \u001b[0;32mreturn\u001b[0m \u001b[0mself\u001b[0m\u001b[0;34m.\u001b[0m\u001b[0m_value\u001b[0m\u001b[0;34m\u001b[0m\u001b[0m\n\u001b[1;32m    566\u001b[0m         \u001b[0;32melse\u001b[0m\u001b[0;34m:\u001b[0m\u001b[0;34m\u001b[0m\u001b[0m\n\u001b[0;32m--> 567\u001b[0;31m             \u001b[0;32mraise\u001b[0m \u001b[0mself\u001b[0m\u001b[0;34m.\u001b[0m\u001b[0m_value\u001b[0m\u001b[0;34m\u001b[0m\u001b[0m\n\u001b[0m\u001b[1;32m    568\u001b[0m \u001b[0;34m\u001b[0m\u001b[0m\n\u001b[1;32m    569\u001b[0m     \u001b[0;32mdef\u001b[0m \u001b[0m_set\u001b[0m\u001b[0;34m(\u001b[0m\u001b[0mself\u001b[0m\u001b[0;34m,\u001b[0m \u001b[0mi\u001b[0m\u001b[0;34m,\u001b[0m \u001b[0mobj\u001b[0m\u001b[0;34m)\u001b[0m\u001b[0;34m:\u001b[0m\u001b[0;34m\u001b[0m\u001b[0m\n",
      "\u001b[0;31mValueError\u001b[0m: total size of new array must be unchanged"
     ]
    }
   ],
   "source": [
    "%time\n",
    "us = [u for u in mf*q]"
   ]
  },
  {
   "cell_type": "code",
   "execution_count": null,
   "metadata": {
    "collapsed": false
   },
   "outputs": [],
   "source": [
    "%pylab inline"
   ]
  },
  {
   "cell_type": "code",
   "execution_count": null,
   "metadata": {
    "collapsed": false
   },
   "outputs": [],
   "source": [
    "clip = 0.1\n",
    "\n",
    "plotOpts = {\n",
    "    'vmin': -clip,\n",
    "    'vmax': clip,\n",
    "    'cmap': cm.bwr\n",
    "}\n",
    "\n",
    "subplot(1,2,1)\n",
    "imshow(us[0][:,0].reshape((200,100)).real, **plotOpts)\n",
    "\n",
    "subplot(1,2,2)\n",
    "imshow(us[5][:,1].reshape((200,100)).real, **plotOpts)"
   ]
  },
  {
   "cell_type": "code",
   "execution_count": null,
   "metadata": {
    "collapsed": true
   },
   "outputs": [],
   "source": []
  }
 ],
 "metadata": {
  "kernelspec": {
   "display_name": "Python 2",
   "language": "python",
   "name": "python2"
  },
  "language_info": {
   "codemirror_mode": {
    "name": "ipython",
    "version": 2
   },
   "file_extension": ".py",
   "mimetype": "text/x-python",
   "name": "python",
   "nbconvert_exporter": "python",
   "pygments_lexer": "ipython2",
   "version": "2.7.11"
  }
 },
 "nbformat": 4,
 "nbformat_minor": 0
}
